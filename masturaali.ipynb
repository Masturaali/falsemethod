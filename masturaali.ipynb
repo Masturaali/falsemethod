{
  "nbformat": 4,
  "nbformat_minor": 0,
  "metadata": {
    "colab": {
      "provenance": [],
      "authorship_tag": "ABX9TyOooDteeJfyX9GrTCC7b/2T",
      "include_colab_link": true
    },
    "kernelspec": {
      "name": "python3",
      "display_name": "Python 3"
    },
    "language_info": {
      "name": "python"
    }
  },
  "cells": [
    {
      "cell_type": "markdown",
      "metadata": {
        "id": "view-in-github",
        "colab_type": "text"
      },
      "source": [
        "<a href=\"https://colab.research.google.com/github/Masturaali/falsemethod/blob/main/masturaali.ipynb\" target=\"_parent\"><img src=\"https://colab.research.google.com/assets/colab-badge.svg\" alt=\"Open In Colab\"/></a>"
      ]
    },
    {
      "cell_type": "code",
      "execution_count": null,
      "metadata": {
        "colab": {
          "base_uri": "https://localhost:8080/"
        },
        "id": "YujTZASwZQKK",
        "outputId": "a9be04b7-f5f7-41a1-833b-da65a27ac01c"
      },
      "outputs": [
        {
          "output_type": "stream",
          "name": "stdout",
          "text": [
            "First Guess: 3\n",
            "Second Guess: 5\n",
            "Tolerable Error: 0.0007\n",
            "\n",
            "\n",
            "*** FALSE POSITION METHOD IMPLEMENTATION ***\n",
            "Iteration-1, x2 = 3.166667 and f(x2) = -0.305556\n",
            "Iteration-2, x2 = 3.216216 and f(x2) = -0.088386\n",
            "Iteration-3, x2 = 3.230435 and f(x2) = -0.025161\n",
            "Iteration-4, x2 = 3.234473 and f(x2) = -0.007130\n",
            "Iteration-5, x2 = 3.235617 and f(x2) = -0.002018\n",
            "Iteration-6, x2 = 3.235940 and f(x2) = -0.000571\n",
            "\n",
            "Required root is: 3.23594033\n"
          ]
        }
      ],
      "source": [
        "def f(x):\n",
        "\n",
        "    return x**2 - 2*x - 4\n",
        "\n",
        "def falsePosition(x0,x1,e):\n",
        "    step = 1\n",
        "    print('\\n\\n*** FALSE POSITION METHOD IMPLEMENTATION ***')\n",
        "    condition = True\n",
        "    while condition:\n",
        "        x2 = x0 - (x1-x0) * f(x0)/( f(x1) - f(x0) )\n",
        "        print('Iteration-%d, x2 = %0.6f and f(x2) = %0.6f' % (step, x2, f(x2)))\n",
        "\n",
        "        if f(x0) * f(x2) < 0:\n",
        "            x1 = x2\n",
        "        else:\n",
        "            x0 = x2\n",
        "\n",
        "        step = step + 1\n",
        "        condition = abs(f(x2)) > e\n",
        "\n",
        "    print('\\nRequired root is: %0.8f' % x2)\n",
        "\n",
        "\n",
        "# Input Section\n",
        "x0 = input('First Guess: ')\n",
        "x1 = input('Second Guess: ')\n",
        "e = input('Tolerable Error: ')\n",
        "\n",
        "# Converting input to float\n",
        "x0 = float(x0)\n",
        "x1 = float(x1)\n",
        "e = float(e)\n",
        "\n",
        "\n",
        "if f(x0) * f(x1) > 0.0:\n",
        "    print('Given guess values do not bracket the root.')\n",
        "    print('Try Again with different guess values.')\n",
        "else:\n",
        "    falsePosition(x0,x1,e)"
      ]
    },
    {
      "cell_type": "markdown",
      "source": [],
      "metadata": {
        "id": "HGVN5pooZpdt"
      }
    },
    {
      "cell_type": "markdown",
      "source": [],
      "metadata": {
        "id": "DcWEXXDhZwUB"
      }
    },
    {
      "cell_type": "code",
      "source": [],
      "metadata": {
        "id": "q9TO2s_NZwnN"
      },
      "execution_count": null,
      "outputs": []
    }
  ]
}